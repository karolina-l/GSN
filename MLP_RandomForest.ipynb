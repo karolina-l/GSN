{
 "cells": [
  {
   "cell_type": "markdown",
   "metadata": {},
   "source": [
    "Imports"
   ]
  },
  {
   "cell_type": "code",
   "execution_count": 10,
   "metadata": {},
   "outputs": [],
   "source": [
    "import numpy as np\n",
    "from matplotlib import pyplot as plt\n",
    "import pandas as pd\n",
    "pd.set_option('display.max_columns', None)\n",
    "from glob import glob\n",
    "import time\n",
    "from IPython.display import display\n",
    "\n",
    "import cv2\n",
    "from cv2 import imread\n",
    "from cv2 import resize as Resize\n",
    "\n",
    "from sklearn.cluster import MiniBatchKMeans\n",
    "\n",
    "from sklearn.model_selection import train_test_split\n",
    "from sklearn import metrics as metrics\n",
    "from sklearn.model_selection import cross_validate\n",
    "from sklearn.decomposition import PCA\n",
    "from sklearn.model_selection import GridSearchCV\n",
    "from sklearn.preprocessing import PolynomialFeatures\n",
    "\n",
    "from sklearn.neural_network import MLPClassifier\n",
    "from sklearn.ensemble import RandomForestClassifier\n",
    "from sklearn.ensemble import VotingClassifier\n",
    "from sklearn.neighbors import KNeighborsClassifier\n",
    "\n",
    "np.random.seed(42)"
   ]
  },
  {
   "cell_type": "code",
   "execution_count": 11,
   "metadata": {},
   "outputs": [],
   "source": [
    "def myTimer(func):\n",
    "    def wrapper(*args, **kwargs):\n",
    "        t   = time.time()\n",
    "        ret = func(*args, **kwargs)\n",
    "        print('computation time = %s s' % (time.time() - t))\n",
    "        return(ret)\n",
    "    return(wrapper)\n",
    "\n",
    "@myTimer\n",
    "def doML(alg, settings, XTrain, YTrain, XTest, YTest, title=None):\n",
    "    if title: \n",
    "        print('====   %s   ====' % title)\n",
    "    else:        \n",
    "        print('===========================================================================')\n",
    "    print(alg)\n",
    "    print(settings)\n",
    "    myAlg = alg(**settings)\n",
    "    myAlg.fit(XTrain, YTrain)\n",
    "    YPred = myAlg.predict(XTest)\n",
    "    print(metrics.classification_report(YTest, YPred))\n",
    "    print('===========================================================================')\n",
    "    return(myAlg)\n",
    "\n",
    "@myTimer\n",
    "def doCV(alg, grid, X, Y, title=None):\n",
    "    if title: \n",
    "        print('%s' % title)\n",
    "    else:        \n",
    "        print('===========================================================================')\n",
    "    \n",
    "    myGS = GridSearchCV(alg(), grid)\n",
    "    myGS.fit(X, Y)\n",
    "\n",
    "    res = pd.DataFrame(myGS.cv_results_)\n",
    "    display(res)\n",
    "    return(myGS)"
   ]
  },
  {
   "cell_type": "code",
   "execution_count": 12,
   "metadata": {},
   "outputs": [],
   "source": [
    "def increase_brightness(img, value=60):\n",
    "    '''\n",
    "    simple approach for improving image brightness\n",
    "    input/output images in RGB\n",
    "    '''\n",
    "    hsv = cv2.cvtColor(img, cv2.COLOR_RGB2HSV)\n",
    "    h, s, v = cv2.split(hsv)\n",
    "\n",
    "    lim = 255 - value\n",
    "    v[v > lim] = 255\n",
    "    v[v <= lim] += value\n",
    "\n",
    "    final_hsv = cv2.merge((h, s, v))\n",
    "    img = cv2.cvtColor(final_hsv, cv2.COLOR_HSV2RGB)\n",
    "    return(img)\n",
    "\n",
    "def transformIMG(pandasRow, newShape=(50,50), color=False):\n",
    "    '''\n",
    "    load csv file, load and pre-process image\n",
    "    returns gray scale or colour image\n",
    "    '''\n",
    "    img = np.asarray( imread('' + pandasRow['Path']) )\n",
    "    img = cv2.cvtColor(img, cv2.COLOR_BGR2RGB)\n",
    "    \n",
    "    imgBright = increase_brightness(img, value=40)\n",
    "    imgROI = imgBright[ pandasRow['Roi.Y1']:pandasRow['Roi.Y2'], pandasRow['Roi.X1']:pandasRow['Roi.X2'] ]\n",
    "    imgTrafo = Resize(imgROI, nuShape)\n",
    "    imgGray = cv2.cvtColor(imgTrafo, cv2.COLOR_RGB2GRAY)\n",
    "    return(imgTrafo if color else imgGray)\n",
    "\n",
    "def prepData(pdDataFrame, nuShape, col=False):\n",
    "    '''\n",
    "    load all images, call pre-processing\n",
    "    return table of flattened images and labels\n",
    "    '''\n",
    "    X, Y = [], []\n",
    "    x, y = np.ogrid[ 0:nuShape[0], 0:nuShape[0] ]\n",
    "    x, y = x - int(.5*nuShape[0]), y - int(.5*nuShape[0])\n",
    "    if col:\n",
    "        \n",
    "        for k in range(pdDataFrame.shape[0]):\n",
    "            \n",
    "            d = pdDataFrame.iloc[k]\n",
    "            img = transformIMG(d, newShape=nuShape, color=col)\n",
    "            X.append(img[x**2 + y**2 <= .25*nuShape[0]**2,:])\n",
    "            Y.append( d['ClassId'] )\n",
    "    else:\n",
    "        for k in range(pdDataFrame.shape[0]):\n",
    "            \n",
    "            d = pdDataFrame.iloc[k]\n",
    "            \n",
    "            img = transformIMG(d, newShape=nuShape)\n",
    "            X.append(img[x**2 + y**2 <= .25*nuShape[0]**2])\n",
    "            Y.append( d['ClassId'] )\n",
    "    return(np.asarray(X), np.asarray(Y))"
   ]
  },
  {
   "cell_type": "code",
   "execution_count": 13,
   "metadata": {},
   "outputs": [],
   "source": [
    "#DATA LOADING\n",
    "\n",
    "data = pd.read_csv('Train.csv')\n",
    "nuShape = (32,32)\n",
    "Xt, Yt = prepData(data, nuShape)"
   ]
  },
  {
   "cell_type": "code",
   "execution_count": 14,
   "metadata": {},
   "outputs": [],
   "source": [
    "XFTrain, XFTest, YFTrain, YFTest = train_test_split(Xt, Yt, test_size=.2, random_state=42)"
   ]
  },
  {
   "cell_type": "markdown",
   "metadata": {},
   "source": [
    "Train MLP using all training data"
   ]
  },
  {
   "cell_type": "code",
   "execution_count": 16,
   "metadata": {},
   "outputs": [],
   "source": [
    "clf = MLPClassifier(hidden_layer_sizes=500,  max_iter=2000, batch_size=100)\n",
    "bestMLP = clf.fit(Xt,Yt)"
   ]
  },
  {
   "cell_type": "markdown",
   "metadata": {},
   "source": [
    "Train RFC using all training data"
   ]
  },
  {
   "cell_type": "code",
   "execution_count": 18,
   "metadata": {},
   "outputs": [],
   "source": [
    "clf = RandomForestClassifier(n_estimators= 200, min_samples_split=10,max_leaf_nodes=None,bootstrap=False, class_weight='balanced')\n",
    "bestRFC = clf.fit(Xt,Yt)"
   ]
  },
  {
   "cell_type": "markdown",
   "metadata": {},
   "source": [
    "TEST DATA"
   ]
  },
  {
   "cell_type": "code",
   "execution_count": 19,
   "metadata": {},
   "outputs": [],
   "source": [
    "Testdata = pd.read_csv('Test.csv')\n",
    "nuShape = (32,32)\n",
    "XRealTest, YRealTest = prepData(Testdata, nuShape)"
   ]
  },
  {
   "cell_type": "code",
   "execution_count": 20,
   "metadata": {},
   "outputs": [
    {
     "name": "stdout",
     "output_type": "stream",
     "text": [
      "              precision    recall  f1-score   support\n",
      "\n",
      "           0       0.64      0.92      0.75        60\n",
      "           1       0.89      0.83      0.86       720\n",
      "           2       0.82      0.93      0.87       750\n",
      "           3       0.94      0.90      0.92       450\n",
      "           4       0.88      0.81      0.84       660\n",
      "           5       0.89      0.76      0.82       630\n",
      "           6       0.62      0.62      0.62       150\n",
      "           7       0.89      0.74      0.81       450\n",
      "           8       0.77      0.81      0.79       450\n",
      "           9       0.87      0.94      0.90       480\n",
      "          10       0.95      0.86      0.90       660\n",
      "          11       0.84      0.78      0.81       420\n",
      "          12       0.75      0.85      0.80       690\n",
      "          13       0.91      0.98      0.94       720\n",
      "          14       0.85      0.91      0.88       270\n",
      "          15       0.87      0.94      0.91       210\n",
      "          16       0.89      0.88      0.89       150\n",
      "          17       0.83      0.99      0.90       360\n",
      "          18       0.77      0.66      0.71       390\n",
      "          19       0.66      0.42      0.51        60\n",
      "          20       0.57      0.57      0.57        90\n",
      "          21       0.89      0.63      0.74        90\n",
      "          22       0.80      0.82      0.81       120\n",
      "          23       0.56      0.69      0.62       150\n",
      "          24       0.32      0.34      0.33        90\n",
      "          25       0.84      0.84      0.84       480\n",
      "          26       0.65      0.76      0.70       180\n",
      "          27       0.64      0.38      0.48        60\n",
      "          28       0.80      0.79      0.80       150\n",
      "          29       0.72      0.77      0.74        90\n",
      "          30       0.50      0.57      0.53       150\n",
      "          31       0.84      0.66      0.74       270\n",
      "          32       0.45      0.57      0.50        60\n",
      "          33       0.90      0.87      0.89       210\n",
      "          34       0.84      0.95      0.89       120\n",
      "          35       0.98      0.94      0.96       390\n",
      "          36       0.79      0.73      0.76       120\n",
      "          37       0.89      0.68      0.77        60\n",
      "          38       0.88      0.89      0.88       690\n",
      "          39       0.66      0.59      0.62        90\n",
      "          40       0.65      0.82      0.73        90\n",
      "          41       0.64      0.38      0.48        60\n",
      "          42       0.70      0.94      0.80        90\n",
      "\n",
      "    accuracy                           0.83     12630\n",
      "   macro avg       0.77      0.76      0.76     12630\n",
      "weighted avg       0.83      0.83      0.83     12630\n",
      "\n"
     ]
    }
   ],
   "source": [
    "#classify test using MLP\n",
    "YRealPred = bestMLP.predict(XRealTest)\n",
    "print(metrics.classification_report(YRealTest, YRealPred))"
   ]
  },
  {
   "cell_type": "code",
   "execution_count": 21,
   "metadata": {},
   "outputs": [
    {
     "name": "stdout",
     "output_type": "stream",
     "text": [
      "              precision    recall  f1-score   support\n",
      "\n",
      "           0       1.00      0.25      0.40        60\n",
      "           1       0.80      0.92      0.86       720\n",
      "           2       0.77      0.87      0.82       750\n",
      "           3       0.80      0.76      0.78       450\n",
      "           4       0.89      0.79      0.83       660\n",
      "           5       0.65      0.71      0.68       630\n",
      "           6       0.80      0.57      0.67       150\n",
      "           7       0.79      0.83      0.81       450\n",
      "           8       0.78      0.69      0.73       450\n",
      "           9       0.96      0.95      0.96       480\n",
      "          10       0.97      0.94      0.95       660\n",
      "          11       0.89      0.95      0.92       420\n",
      "          12       0.86      0.94      0.90       690\n",
      "          13       0.95      0.99      0.97       720\n",
      "          14       0.89      0.98      0.93       270\n",
      "          15       0.93      0.96      0.95       210\n",
      "          16       1.00      0.97      0.98       150\n",
      "          17       0.96      0.88      0.92       360\n",
      "          18       0.64      0.63      0.63       390\n",
      "          19       0.57      0.50      0.53        60\n",
      "          20       0.59      0.73      0.65        90\n",
      "          21       0.98      0.48      0.64        90\n",
      "          22       0.93      0.86      0.89       120\n",
      "          23       0.70      0.57      0.63       150\n",
      "          24       0.85      0.49      0.62        90\n",
      "          25       0.81      0.91      0.86       480\n",
      "          26       0.57      0.59      0.58       180\n",
      "          27       0.94      0.28      0.44        60\n",
      "          28       0.66      0.78      0.72       150\n",
      "          29       0.69      0.52      0.59        90\n",
      "          30       0.59      0.47      0.52       150\n",
      "          31       0.61      0.80      0.69       270\n",
      "          32       1.00      0.20      0.33        60\n",
      "          33       0.85      0.86      0.86       210\n",
      "          34       0.95      0.97      0.96       120\n",
      "          35       0.99      0.95      0.97       390\n",
      "          36       1.00      0.77      0.87       120\n",
      "          37       0.98      0.97      0.97        60\n",
      "          38       0.92      0.97      0.94       690\n",
      "          39       0.98      0.67      0.79        90\n",
      "          40       0.97      0.86      0.91        90\n",
      "          41       0.59      0.58      0.59        60\n",
      "          42       0.85      0.79      0.82        90\n",
      "\n",
      "    accuracy                           0.83     12630\n",
      "   macro avg       0.84      0.75      0.77     12630\n",
      "weighted avg       0.84      0.83      0.83     12630\n",
      "\n"
     ]
    }
   ],
   "source": [
    "#classify test using RF\n",
    "YRealPred2 = bestRFC.predict(XRealTest)\n",
    "print(metrics.classification_report(YRealTest, YRealPred2))"
   ]
  }
 ],
 "metadata": {
  "kernelspec": {
   "display_name": "Python 3",
   "language": "python",
   "name": "python3"
  },
  "language_info": {
   "codemirror_mode": {
    "name": "ipython",
    "version": 3
   },
   "file_extension": ".py",
   "mimetype": "text/x-python",
   "name": "python",
   "nbconvert_exporter": "python",
   "pygments_lexer": "ipython3",
   "version": "3.12.0"
  }
 },
 "nbformat": 4,
 "nbformat_minor": 2
}
